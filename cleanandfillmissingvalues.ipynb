{
 "cells": [
  {
   "cell_type": "code",
   "execution_count": 4,
   "metadata": {},
   "outputs": [],
   "source": [
    "# import the pandas library\n",
    "import pandas as pd\n",
    "import numpy as np\n",
    "\n",
    "df = pd.DataFrame(np.random.randn(5, 3), index=['a', 'c', 'e', 'f',\n",
    "'h'],columns=['one', 'two', 'three'])"
   ]
  },
  {
   "cell_type": "code",
   "execution_count": 5,
   "metadata": {},
   "outputs": [
    {
     "name": "stdout",
     "output_type": "stream",
     "text": [
      "        one       two     three\n",
      "a -0.314747  0.546227 -0.561125\n",
      "b       NaN       NaN       NaN\n",
      "c -0.139592  0.538681 -0.126937\n",
      "d       NaN       NaN       NaN\n",
      "e -0.593627  0.957273 -1.105620\n",
      "f -0.302618  1.489513 -0.844964\n",
      "g       NaN       NaN       NaN\n",
      "h  2.275180  1.547586 -0.966818\n"
     ]
    }
   ],
   "source": [
    "df = df.reindex(['a', 'b', 'c', 'd', 'e', 'f', 'g', 'h'])\n",
    "\n",
    "print(df)"
   ]
  },
  {
   "cell_type": "code",
   "execution_count": 6,
   "metadata": {},
   "outputs": [
    {
     "name": "stdout",
     "output_type": "stream",
     "text": [
      "        one       two     three\n",
      "a -0.314747  0.546227 -0.561125\n",
      "b       NaN       NaN       NaN\n",
      "c -0.139592  0.538681 -0.126937\n",
      "d       NaN       NaN       NaN\n",
      "e -0.593627  0.957273 -1.105620\n",
      "f -0.302618  1.489513 -0.844964\n",
      "g       NaN       NaN       NaN\n",
      "h  2.275180  1.547586 -0.966818\n"
     ]
    }
   ],
   "source": [
    "df.fillna(0)\n",
    "print(df)"
   ]
  },
  {
   "cell_type": "code",
   "execution_count": 7,
   "metadata": {},
   "outputs": [
    {
     "name": "stdout",
     "output_type": "stream",
     "text": [
      "        one       two     three\n",
      "a -0.314747  0.546227 -0.561125\n",
      "b  0.000000  0.000000  0.000000\n",
      "c -0.139592  0.538681 -0.126937\n",
      "d  0.000000  0.000000  0.000000\n",
      "e -0.593627  0.957273 -1.105620\n",
      "f -0.302618  1.489513 -0.844964\n",
      "g  0.000000  0.000000  0.000000\n",
      "h  2.275180  1.547586 -0.966818\n"
     ]
    }
   ],
   "source": [
    "print(df.fillna(0))\n",
    "#filling with o at evry null value"
   ]
  },
  {
   "cell_type": "code",
   "execution_count": 9,
   "metadata": {},
   "outputs": [
    {
     "name": "stdout",
     "output_type": "stream",
     "text": [
      "        one       two     three\n",
      "a -0.121503  1.201509  0.629093\n",
      "b -0.121503  1.201509  0.629093\n",
      "c  0.309114 -0.928949 -0.733985\n",
      "d  0.309114 -0.928949 -0.733985\n",
      "e  0.930894  0.354540  1.396155\n",
      "f -0.856461  1.036277 -0.796805\n",
      "g -0.856461  1.036277 -0.796805\n",
      "h -0.091324  0.527720  0.098300\n",
      "        one       two     three\n",
      "a -0.121503  1.201509  0.629093\n",
      "b  0.309114 -0.928949 -0.733985\n",
      "c  0.309114 -0.928949 -0.733985\n",
      "d  0.930894  0.354540  1.396155\n",
      "e  0.930894  0.354540  1.396155\n",
      "f -0.856461  1.036277 -0.796805\n",
      "g -0.091324  0.527720  0.098300\n",
      "h -0.091324  0.527720  0.098300\n"
     ]
    }
   ],
   "source": [
    "#now fill with previous(pad) or after(fill) values from table\n",
    "import pandas as pd\n",
    "import numpy as np\n",
    "\n",
    "df = pd.DataFrame(np.random.randn(5, 3), index=['a', 'c', 'e', 'f',\n",
    "'h'],columns=['one', 'two', 'three'])\n",
    "\n",
    "df = df.reindex(['a', 'b', 'c', 'd', 'e', 'f', 'g', 'h'])\n",
    "\n",
    "print(df.fillna(method='pad'))\n",
    "print(df.fillna(method='backfill'))\n"
   ]
  },
  {
   "cell_type": "code",
   "execution_count": null,
   "metadata": {},
   "outputs": [],
   "source": []
  }
 ],
 "metadata": {
  "kernelspec": {
   "display_name": "Python 3",
   "language": "python",
   "name": "python3"
  },
  "language_info": {
   "codemirror_mode": {
    "name": "ipython",
    "version": 3
   },
   "file_extension": ".py",
   "mimetype": "text/x-python",
   "name": "python",
   "nbconvert_exporter": "python",
   "pygments_lexer": "ipython3",
   "version": "3.7.1"
  }
 },
 "nbformat": 4,
 "nbformat_minor": 2
}
