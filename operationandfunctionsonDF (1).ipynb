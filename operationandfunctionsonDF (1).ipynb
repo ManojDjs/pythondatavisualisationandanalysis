{
 "cells": [
  {
   "cell_type": "code",
   "execution_count": 5,
   "metadata": {},
   "outputs": [
    {
     "name": "stdout",
     "output_type": "stream",
     "text": [
      "  col1  col2  col3\n",
      "0    A     2     0\n",
      "1    A     1     1\n",
      "2    B     9     9\n",
      "3  NaN     8     4\n",
      "4    D     7     2\n",
      "5    C     4     3\n"
     ]
    }
   ],
   "source": [
    "import matplotlib.pyplot as plt; plt.rcdefaults()\n",
    "import numpy as np\n",
    "import pandas as pd\n",
    "df = pd.DataFrame({\n",
    "    'col1' : ['A', 'A', 'B', np.nan, 'D', 'C'],\n",
    "    'col2' : [2, 1, 9, 8, 7, 4],\n",
    "     'col3': [0, 1, 9, 4, 2, 3],\n",
    " })\n",
    "print(df)"
   ]
  },
  {
   "cell_type": "code",
   "execution_count": 7,
   "metadata": {},
   "outputs": [
    {
     "name": "stdout",
     "output_type": "stream",
     "text": [
      "0      A\n",
      "1      A\n",
      "2      B\n",
      "3    NaN\n",
      "4      D\n",
      "5      C\n",
      "Name: col1, dtype: object\n"
     ]
    }
   ],
   "source": [
    "print(df['col1'])"
   ]
  },
  {
   "cell_type": "code",
   "execution_count": 8,
   "metadata": {},
   "outputs": [
    {
     "name": "stdout",
     "output_type": "stream",
     "text": [
      "  col1  col2  col3\n",
      "1    A     1     1\n",
      "0    A     2     0\n",
      "5    C     4     3\n",
      "4    D     7     2\n",
      "3  NaN     8     4\n",
      "2    B     9     9\n"
     ]
    }
   ],
   "source": [
    "print(df.sort_values(by='col2'))"
   ]
  },
  {
   "cell_type": "code",
   "execution_count": 9,
   "metadata": {},
   "outputs": [
    {
     "name": "stdout",
     "output_type": "stream",
     "text": [
      "8\n"
     ]
    }
   ],
   "source": [
    "print(df['col2'][3])"
   ]
  },
  {
   "cell_type": "code",
   "execution_count": 10,
   "metadata": {},
   "outputs": [
    {
     "name": "stdout",
     "output_type": "stream",
     "text": [
      "  col1  col2  col3\n",
      "0    A     2     0\n",
      "1    A     1     1\n",
      "2    B     9     9\n",
      "3    0     8     4\n",
      "4    D     7     2\n",
      "5    C     4     3\n"
     ]
    }
   ],
   "source": [
    "cleaneddf=df.fillna(0)#cleaning values in DF\n",
    "print(cleaneddf)"
   ]
  },
  {
   "cell_type": "code",
   "execution_count": 12,
   "metadata": {},
   "outputs": [
    {
     "name": "stdout",
     "output_type": "stream",
     "text": [
      "  col1  col2  col3\n",
      "1    A     1     1\n",
      "0    A     2     0\n",
      "5    C     4     3\n",
      "4    D     7     2\n",
      "3    0     8     4\n",
      "2    B     9     9\n"
     ]
    }
   ],
   "source": [
    "sorteddf=cleaneddf.sort_values(by='col2')#sorting values in dataframe\n",
    "print(sorteddf)"
   ]
  },
  {
   "cell_type": "code",
   "execution_count": 13,
   "metadata": {},
   "outputs": [
    {
     "name": "stdout",
     "output_type": "stream",
     "text": [
      "[['A' 1 1]\n",
      " ['A' 2 0]\n",
      " ['C' 4 3]\n",
      " ['D' 7 2]\n",
      " [0 8 4]\n",
      " ['B' 9 9]]\n"
     ]
    }
   ],
   "source": [
    "print(sorteddf.get_values())#returns numpy array"
   ]
  },
  {
   "cell_type": "code",
   "execution_count": 14,
   "metadata": {},
   "outputs": [
    {
     "name": "stdout",
     "output_type": "stream",
     "text": [
      "    col1   col2   col3\n",
      "1  False  False  False\n",
      "0  False  False  False\n",
      "5  False  False  False\n",
      "4  False  False  False\n",
      "3  False  False  False\n",
      "2  False  False  False\n"
     ]
    }
   ],
   "source": [
    "print(sorteddf.isna())#gives if DF havinf any null values"
   ]
  },
  {
   "cell_type": "code",
   "execution_count": 41,
   "metadata": {},
   "outputs": [
    {
     "name": "stdout",
     "output_type": "stream",
     "text": [
      "   A  B\n",
      "0  0  1\n",
      "1  2  3\n",
      "2  4  5\n",
      "3  6  7\n",
      "4  8  9\n",
      "   A  B\n",
      "0  0  1\n",
      "1  2  3\n",
      "2  4  5\n",
      "3  6  7\n",
      "4  8  9\n"
     ]
    }
   ],
   "source": [
    "import operator\n",
    "sdf = pd.DataFrame(np.arange(10).reshape(-1, 2), columns=['A', 'B'])\n",
    "print(sdf)\n",
    "print(sdf.where(sdf>0,sdf*2)) #if not then something condition "
   ]
  },
  {
   "cell_type": "code",
   "execution_count": 42,
   "metadata": {},
   "outputs": [
    {
     "name": "stdout",
     "output_type": "stream",
     "text": [
      "Empty DataFrame\n",
      "Columns: []\n",
      "Index: [0, 1, 2, 3, 4]\n"
     ]
    }
   ],
   "source": [
    "print(sdf.filter(regex='0$', axis=1))#filter using regex over specefic columns"
   ]
  },
  {
   "cell_type": "code",
   "execution_count": null,
   "metadata": {},
   "outputs": [],
   "source": []
  },
  {
   "cell_type": "code",
   "execution_count": null,
   "metadata": {},
   "outputs": [],
   "source": []
  }
 ],
 "metadata": {
  "kernelspec": {
   "display_name": "Python 3",
   "language": "python",
   "name": "python3"
  },
  "language_info": {
   "codemirror_mode": {
    "name": "ipython",
    "version": 3
   },
   "file_extension": ".py",
   "mimetype": "text/x-python",
   "name": "python",
   "nbconvert_exporter": "python",
   "pygments_lexer": "ipython3",
   "version": "3.7.1"
  }
 },
 "nbformat": 4,
 "nbformat_minor": 2
}
