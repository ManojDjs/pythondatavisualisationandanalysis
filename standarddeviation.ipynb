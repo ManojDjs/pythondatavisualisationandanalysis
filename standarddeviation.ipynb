{
 "cells": [
  {
   "cell_type": "code",
   "execution_count": 6,
   "metadata": {},
   "outputs": [
    {
     "name": "stdout",
     "output_type": "stream",
     "text": [
      "   frequency\n",
      "0         73\n",
      "1         73\n",
      "2         76\n",
      "3         81\n",
      "4         85\n",
      "5        100\n"
     ]
    }
   ],
   "source": [
    "#finding variance standard deviation and \n",
    "import pandas as pd\n",
    "import numpy as np\n",
    "from pandas import Series,DataFrame\n",
    "from numpy.random import randn\n",
    "lis=[73,73,76,81,85,100]\n",
    "df=DataFrame(lis,columns=['frequency'])\n",
    "print(df)"
   ]
  },
  {
   "cell_type": "code",
   "execution_count": 14,
   "metadata": {},
   "outputs": [
    {
     "name": "stdout",
     "output_type": "stream",
     "text": [
      "frequency    488\n",
      "dtype: int64\n"
     ]
    }
   ],
   "source": [
    "#mean for thr gives data is\n",
    "mean=df.sum()\n",
    "print(mean)"
   ]
  },
  {
   "cell_type": "code",
   "execution_count": 31,
   "metadata": {},
   "outputs": [
    {
     "name": "stdout",
     "output_type": "stream",
     "text": [
      "81.33333333333333\n"
     ]
    }
   ],
   "source": [
    "import functools\n",
    "import operator\n",
    "import math\n",
    "#mean of the data\n",
    "mean=(functools.reduce(operator.add,df['frequency']))/df['frequency'].count()\n",
    "#reduce used here for sum of all elements in the list\n",
    "print(mean)"
   ]
  },
  {
   "cell_type": "code",
   "execution_count": 36,
   "metadata": {},
   "outputs": [
    {
     "name": "stdout",
     "output_type": "stream",
     "text": [
      "9.370955917878113\n"
     ]
    }
   ],
   "source": [
    "#implementation of standard deviation\n",
    "sd=math.sqrt((functools.reduce(lambda sum,x:sum+math.pow((x-mean),2),df['frequency']))/df['frequency'].count()-1)\n",
    "print(sd)"
   ]
  },
  {
   "cell_type": "code",
   "execution_count": 37,
   "metadata": {},
   "outputs": [
    {
     "name": "stdout",
     "output_type": "stream",
     "text": [
      "90.70428925121143 71.96237741545522\n"
     ]
    }
   ],
   "source": [
    "#now analysing the total data\n",
    "sd11=mean+sd #1st sigma values\n",
    "sd12=mean-sd\n",
    "print(sd11,sd12)\n"
   ]
  },
  {
   "cell_type": "code",
   "execution_count": 55,
   "metadata": {},
   "outputs": [
    {
     "name": "stdout",
     "output_type": "stream",
     "text": [
      "[73, 73, 76, 81, 85]\n"
     ]
    }
   ],
   "source": [
    "sum=0\n",
    "predictionlist=[x for x in df['frequency'] if x<sd11 and x>sd12]\n",
    "print(predictionlist)"
   ]
  },
  {
   "cell_type": "code",
   "execution_count": 58,
   "metadata": {},
   "outputs": [
    {
     "name": "stdout",
     "output_type": "stream",
     "text": [
      "83.33333333333334\n"
     ]
    }
   ],
   "source": [
    "#now caliculate how much data is in the ist mean:\n",
    "percentage=(len(predictionlist)/df['frequency'].count())*100\n",
    "print(percentage)"
   ]
  },
  {
   "cell_type": "code",
   "execution_count": 59,
   "metadata": {},
   "outputs": [
    {
     "name": "stdout",
     "output_type": "stream",
     "text": [
      "so here as sd is less and percentage is high all values are custured around mean \n"
     ]
    }
   ],
   "source": [
    "print('so here as sd is less and percentage is high all values are custured around mean ')"
   ]
  },
  {
   "cell_type": "code",
   "execution_count": null,
   "metadata": {},
   "outputs": [],
   "source": []
  }
 ],
 "metadata": {
  "kernelspec": {
   "display_name": "Python 3",
   "language": "python",
   "name": "python3"
  },
  "language_info": {
   "codemirror_mode": {
    "name": "ipython",
    "version": 3
   },
   "file_extension": ".py",
   "mimetype": "text/x-python",
   "name": "python",
   "nbconvert_exporter": "python",
   "pygments_lexer": "ipython3",
   "version": "3.7.1"
  }
 },
 "nbformat": 4,
 "nbformat_minor": 2
}
