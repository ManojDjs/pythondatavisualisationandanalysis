{
 "cells": [
  {
   "cell_type": "code",
   "execution_count": 9,
   "metadata": {},
   "outputs": [
    {
     "name": "stdout",
     "output_type": "stream",
     "text": [
      "    a   b   c   d\n",
      "i   0   1   2   3\n",
      "j   4   5   6   7\n",
      "k   8   9  10  11\n",
      "l  12  13  14  15\n",
      "m  16  17  18  19\n",
      "n  20  21  22  23\n"
     ]
    }
   ],
   "source": [
    "import pandas as pd\n",
    "import numpy as np\n",
    "#cleaning or missing values\n",
    "from numpy.random import randn\n",
    "d=pd.DataFrame(np.arange(24).reshape(6,4),columns=['a','b','c','d'],index=['i','j','k','l','m','n'])\n",
    "print(d)"
   ]
  },
  {
   "cell_type": "code",
   "execution_count": 14,
   "metadata": {},
   "outputs": [
    {
     "name": "stdout",
     "output_type": "stream",
     "text": [
      "    a   b   c   d\n",
      "i   0   1   2   3\n",
      "j   4   5   6   7\n",
      "k   8   9  10  11\n",
      "l  12  13  14  15\n",
      "m  16  17  18  19\n",
      "n  20  21  22  23\n"
     ]
    }
   ],
   "source": [
    "#here one index is added \n",
    "d.reindex(['i','j','k','l','m','n','o'])\n",
    "print(d)"
   ]
  },
  {
   "cell_type": "code",
   "execution_count": null,
   "metadata": {},
   "outputs": [],
   "source": []
  },
  {
   "cell_type": "code",
   "execution_count": null,
   "metadata": {},
   "outputs": [],
   "source": []
  }
 ],
 "metadata": {
  "kernelspec": {
   "display_name": "Python 3",
   "language": "python",
   "name": "python3"
  },
  "language_info": {
   "codemirror_mode": {
    "name": "ipython",
    "version": 3
   },
   "file_extension": ".py",
   "mimetype": "text/x-python",
   "name": "python",
   "nbconvert_exporter": "python",
   "pygments_lexer": "ipython3",
   "version": "3.7.1"
  }
 },
 "nbformat": 4,
 "nbformat_minor": 2
}
