{
 "cells": [
  {
   "cell_type": "code",
   "execution_count": 2,
   "metadata": {},
   "outputs": [
    {
     "name": "stdout",
     "output_type": "stream",
     "text": [
      "  company  sharevalue\n",
      "0    audi         200\n",
      "1     bmw         156\n",
      "2    Merc         111\n"
     ]
    }
   ],
   "source": [
    "\n",
    "#categeral variable and cumulativefrequency\n",
    "import matplotlib.pyplot as plt\n",
    "import numpy as np\n",
    "import pandas as pd\n",
    "data=[['audi',200],['bmw',156],['Merc',111]]\n",
    "df=pd.DataFrame(data,columns=['company','sharevalue'])\n",
    "print(df)"
   ]
  },
  {
   "cell_type": "code",
   "execution_count": 3,
   "metadata": {},
   "outputs": [
    {
     "name": "stdout",
     "output_type": "stream",
     "text": [
      "  company  sharevalue\n",
      "2    Merc         111\n",
      "1     bmw         156\n",
      "0    audi         200\n"
     ]
    }
   ],
   "source": [
    "sorteddf=df.sort_values(by='sharevalue')\n",
    "print(sorteddf)"
   ]
  },
  {
   "cell_type": "code",
   "execution_count": 4,
   "metadata": {},
   "outputs": [
    {
     "name": "stdout",
     "output_type": "stream",
     "text": [
      "467\n"
     ]
    }
   ],
   "source": [
    "x=0\n",
    "total=sorteddf['sharevalue'].sum()\n",
    "print(total)"
   ]
  },
  {
   "cell_type": "code",
   "execution_count": 5,
   "metadata": {},
   "outputs": [
    {
     "name": "stdout",
     "output_type": "stream",
     "text": [
      "[23.768736616702355, 33.40471092077088, 42.82655246252677]\n"
     ]
    }
   ],
   "source": [
    "relativefrequency=[(x/total)*100 for x in sorteddf['sharevalue']]\n",
    "print(relativefrequency)"
   ]
  },
  {
   "cell_type": "code",
   "execution_count": 6,
   "metadata": {},
   "outputs": [
    {
     "name": "stdout",
     "output_type": "stream",
     "text": [
      "[23.768736616702355, 57.17344753747324, 100.0]\n"
     ]
    }
   ],
   "source": [
    "cumulativefrequency=[]\n",
    "sum=0\n",
    "for i in relativefrequency:\n",
    "    sum=sum+i\n",
    "    cumulativefrequency.append(sum)\n",
    "print(cumulativefrequency)"
   ]
  },
  {
   "cell_type": "code",
   "execution_count": 7,
   "metadata": {},
   "outputs": [
    {
     "name": "stdout",
     "output_type": "stream",
     "text": [
      "  company  sharevalue  relativefrequency\n",
      "2    Merc         111          23.768737\n",
      "1     bmw         156          33.404711\n",
      "0    audi         200          42.826552\n",
      "  company  sharevalue  relativefrequency  cumulativefrequency\n",
      "2    Merc         111          23.768737            23.768737\n",
      "1     bmw         156          33.404711            57.173448\n",
      "0    audi         200          42.826552           100.000000\n"
     ]
    }
   ],
   "source": [
    "sorteddf['relativefrequency']=relativefrequency\n",
    "print(sorteddf)\n",
    "sorteddf['cumulativefrequency']=cumulativefrequency\n",
    "print(sorteddf)"
   ]
  },
  {
   "cell_type": "code",
   "execution_count": 8,
   "metadata": {},
   "outputs": [
    {
     "data": {
      "image/png": "[encoded data removed]",
      "text/plain": [
       "<Figure size 432x288 with 1 Axes>"
      ]
     },
     "metadata": {},
     "output_type": "display_data"
    },
    {
     "name": "stdout",
     "output_type": "stream",
     "text": [
      "None\n"
     ]
    }
   ],
   "source": [
    "\n",
    "slice_values=sorteddf['relativefrequency']\n",
    "colors = ['r', 'g','b']\n",
    "plt.pie(slice_values, labels=sorteddf['company'], colors=colors,shadow=True, startangle=45, autopct='%.3f%%')\n",
    "plt.title('Each company share in car trade')\n",
    "print(plt.show())"
   ]
  },
  {
   "cell_type": "code",
   "execution_count": null,
   "metadata": {},
   "outputs": [],
   "source": []
  }
 ],
 "metadata": {
  "kernelspec": {
   "display_name": "Python 3",
   "language": "python",
   "name": "python3"
  },
  "language_info": {
   "codemirror_mode": {
    "name": "ipython",
    "version": 3
   },
   "file_extension": ".py",
   "mimetype": "text/x-python",
   "name": "python",
   "nbconvert_exporter": "python",
   "pygments_lexer": "ipython3",
   "version": "3.7.1"
  }
 },
 "nbformat": 4,
 "nbformat_minor": 2
}
