{
 "cells": [
  {
   "cell_type": "code",
   "execution_count": 2,
   "metadata": {},
   "outputs": [
    {
     "name": "stdout",
     "output_type": "stream",
     "text": [
      "connected\n",
      "yes\n",
      "0\n"
     ]
    }
   ],
   "source": [
    "from pymongo import MongoClient\n",
    "import requests\n",
    "import pandas as pd\n",
    "client = MongoClient(\"mongodb://localhost:27017/\")\n",
    "if(client):\n",
    "   print(\"connected\")\n",
    "db = client.Title\n",
    "collection1 = db['titleclean']\n",
    "data = pd.DataFrame(list(collection1.find()))\n",
    "data.fillna(0)\n",
    "c=0\n",
    "# print(data['City'])\n",
    "for col in data.columns:\n",
    "    for name in data[col]:\n",
    "        if name=='NY':\n",
    "            print('yes')\n",
    "            break\n",
    "        else:\n",
    "            pass\n",
    "print(c)        "
   ]
  },
  {
   "cell_type": "code",
   "execution_count": null,
   "metadata": {},
   "outputs": [],
   "source": []
  },
  {
   "cell_type": "code",
   "execution_count": null,
   "metadata": {},
   "outputs": [],
   "source": []
  }
 ],
 "metadata": {
  "kernelspec": {
   "display_name": "Python 3",
   "language": "python",
   "name": "python3"
  },
  "language_info": {
   "codemirror_mode": {
    "name": "ipython",
    "version": 3
   },
   "file_extension": ".py",
   "mimetype": "text/x-python",
   "name": "python",
   "nbconvert_exporter": "python",
   "pygments_lexer": "ipython3",
   "version": "3.7.1"
  }
 },
 "nbformat": 4,
 "nbformat_minor": 2
}
