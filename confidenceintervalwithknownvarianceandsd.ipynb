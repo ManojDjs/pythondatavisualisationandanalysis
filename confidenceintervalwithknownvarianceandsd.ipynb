{
 "cells": [
  {
   "cell_type": "code",
   "execution_count": 27,
   "metadata": {},
   "outputs": [
    {
     "name": "stdout",
     "output_type": "stream",
     "text": [
      "-0.06270677794321385\n"
     ]
    }
   ],
   "source": [
    "#confidence interval\n",
    "\n",
    "import scipy.stats as st\n",
    "print(st.norm.ppf(.475))"
   ]
  },
  {
   "cell_type": "code",
   "execution_count": 28,
   "metadata": {},
   "outputs": [
    {
     "name": "stdout",
     "output_type": "stream",
     "text": [
      "    A   B   C   D\n",
      "0  12   5  20  14\n",
      "1   4   2  16   3\n",
      "2   5  54   7  17\n",
      "3  44   3   3   2\n",
      "4   1   2   8   6\n"
     ]
    }
   ],
   "source": [
    "import pandas as pd \n",
    "  \n",
    "# Creating the dataframe  \n",
    "df = pd.DataFrame({\"A\":[12, 4, 5, 44, 1], \n",
    "                   \"B\":[5, 2, 54, 3, 2],  \n",
    "                   \"C\":[20, 16, 7, 3, 8], \n",
    "                   \"D\":[14, 3, 17, 2, 6]}) \n",
    "  \n",
    "# Print the dataframe \n",
    "print(df)"
   ]
  },
  {
   "cell_type": "code",
   "execution_count": 29,
   "metadata": {},
   "outputs": [
    {
     "name": "stdout",
     "output_type": "stream",
     "text": [
      "A    13.2\n",
      "B    13.2\n",
      "C    10.8\n",
      "D     8.4\n",
      "dtype: float64\n"
     ]
    }
   ],
   "source": [
    "print(df.mean(axis=0))"
   ]
  },
  {
   "cell_type": "code",
   "execution_count": 30,
   "metadata": {},
   "outputs": [
    {
     "name": "stdout",
     "output_type": "stream",
     "text": [
      "0    12\n",
      "1     4\n",
      "2     5\n",
      "3    44\n",
      "4     1\n",
      "Name: A, dtype: int64\n",
      "13.2\n",
      "Standard Deviation of sample is 17.683325479106017 \n"
     ]
    }
   ],
   "source": [
    "import statistics as st\n",
    "  \n",
    "# creating a simple data - set \n",
    "sample = df['A']\n",
    "print(sample)\n",
    "print(st.mean(sample))\n",
    "# Prints standard deviation \n",
    "# xbar is set to default value of 1 \n",
    "print(\"Standard Deviation of sample is % s \" \n",
    "                % (st.stdev(sample))) "
   ]
  },
  {
   "cell_type": "code",
   "execution_count": 36,
   "metadata": {},
   "outputs": [
    {
     "name": "stdout",
     "output_type": "stream",
     "text": [
      "23.263157894736842\n",
      "1.820930936000652\n"
     ]
    }
   ],
   "source": [
    "lis=[21,22,23,24,25,26,27,22,23,21,24,22,22,23,25,26,21,22,23]\n",
    "#takes ages of cricket team\n",
    "import statistics as st\n",
    "mean=st.mean(lis)\n",
    "print(mean)\n",
    "sd=st.stdev(lis)\n",
    "print(sd)"
   ]
  },
  {
   "cell_type": "code",
   "execution_count": 37,
   "metadata": {},
   "outputs": [
    {
     "name": "stdout",
     "output_type": "stream",
     "text": [
      "0.4177502070101985\n"
     ]
    }
   ],
   "source": [
    " import math\n",
    "serror=sd/math.sqrt(len(lis))\n",
    "print(serror)"
   ]
  },
  {
   "cell_type": "code",
   "execution_count": 38,
   "metadata": {},
   "outputs": [
    {
     "name": "stdout",
     "output_type": "stream",
     "text": [
      "0.975\n"
     ]
    }
   ],
   "source": [
    "#for 95 confidence alpha would be 5 \n",
    "#1. convert to decimal which is 0.05\n",
    "#2. z score sub to aplha/2 which is 0.025\n",
    "#3. z score aplha is 1-0.025\n",
    "#caliclulalte from z score table add up row n column corresponding values\\\n",
    "aplha=0.05\n",
    "z=aplha/2\n",
    "zscore=1-z\n",
    "print(zscore)"
   ]
  },
  {
   "cell_type": "code",
   "execution_count": 39,
   "metadata": {},
   "outputs": [
    {
     "name": "stdout",
     "output_type": "stream",
     "text": [
      "1.959963984540054\n"
     ]
    }
   ],
   "source": [
    "import scipy.stats as st\n",
    "print(st.norm.ppf(zscore))\n",
    "zscorevalue=st.norm.ppf(zscore)"
   ]
  },
  {
   "cell_type": "code",
   "execution_count": 40,
   "metadata": {},
   "outputs": [
    {
     "name": "stdout",
     "output_type": "stream",
     "text": [
      "22.4443825344627\n"
     ]
    }
   ],
   "source": [
    "#caliculate the confidence innterval now\n",
    "lb=mean-zscorevalue*serror\n",
    "print(lb)"
   ]
  },
  {
   "cell_type": "code",
   "execution_count": 41,
   "metadata": {},
   "outputs": [
    {
     "name": "stdout",
     "output_type": "stream",
     "text": [
      "24.081933255010984\n"
     ]
    }
   ],
   "source": [
    "ub=mean+zscorevalue*serror\n",
    "print(ub)"
   ]
  },
  {
   "cell_type": "code",
   "execution_count": null,
   "metadata": {},
   "outputs": [],
   "source": []
  }
 ],
 "metadata": {
  "kernelspec": {
   "display_name": "Python 3",
   "language": "python",
   "name": "python3"
  },
  "language_info": {
   "codemirror_mode": {
    "name": "ipython",
    "version": 3
   },
   "file_extension": ".py",
   "mimetype": "text/x-python",
   "name": "python",
   "nbconvert_exporter": "python",
   "pygments_lexer": "ipython3",
   "version": "3.7.1"
  }
 },
 "nbformat": 4,
 "nbformat_minor": 2
}
